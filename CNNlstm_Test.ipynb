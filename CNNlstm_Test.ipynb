{
 "cells": [
  {
   "cell_type": "code",
   "execution_count": 1,
   "metadata": {},
   "outputs": [],
   "source": [
    "import os\n",
    "import cv2\n",
    "import math\n",
    "import random\n",
    "import numpy as np\n",
    "import torch\n",
    "import torch.nn as nn\n",
    "import torch.optim as optim\n",
    "import torch.utils.data as data\n",
    "import torchvision.transforms as transforms\n",
    "import matplotlib.pyplot as plt\n",
    "from sklearn.model_selection import train_test_split\n",
    "\n",
    "device = torch.device('cuda' if torch.cuda.is_available() else 'cpu')\n",
    "\n",
    "# Constants\n",
    "IMAGE_HEIGHT, IMAGE_WIDTH = 64, 64\n",
    "SEQUENCE_LENGTH = 80\n"
   ]
  },
  {
   "cell_type": "code",
   "execution_count": 2,
   "metadata": {},
   "outputs": [],
   "source": [
    "import cv2\n",
    "import numpy as np\n",
    "\n",
    "def frames_extractor(video_path):\n",
    "    frames_list = []\n",
    "    video_reader = cv2.VideoCapture(video_path)\n",
    "    video_frames_count = int(video_reader.get(cv2.CAP_PROP_FRAME_COUNT))\n",
    "    skip_frames_window = max(int(video_frames_count / SEQUENCE_LENGTH), 1)\n",
    "\n",
    "    face_cascade = cv2.CascadeClassifier(cv2.data.haarcascades + 'haarcascade_frontalface_default.xml')\n",
    "\n",
    "    for frame_counter in range(0, video_frames_count, skip_frames_window):\n",
    "        video_reader.set(cv2.CAP_PROP_POS_FRAMES, frame_counter)\n",
    "        success, frame = video_reader.read()\n",
    "        if not success:\n",
    "            break\n",
    "        gray_frame = cv2.cvtColor(frame, cv2.COLOR_BGR2GRAY)\n",
    "        faces = face_cascade.detectMultiScale(gray_frame, scaleFactor=1.1, minNeighbors=5)\n",
    "\n",
    "        if len(faces) > 0:\n",
    "            x, y, w, h = faces[0]\n",
    "            face = frame[y:y+h, x:x+w]\n",
    "            resized_face = cv2.resize(face, (IMAGE_HEIGHT, IMAGE_WIDTH))\n",
    "            normalized_face = resized_face / 255.0\n",
    "            frames_list.append(normalized_face)\n",
    " \n",
    "       # Stop if we have collected enough frames\n",
    "        if len(frames_list) >= SEQUENCE_LENGTH:\n",
    "            break\n",
    "\n",
    "    video_reader.release()\n",
    "\n",
    "    # Ensure the number of frames is equal to SEQUENCE_LENGTH\n",
    "    while len(frames_list) < SEQUENCE_LENGTH:\n",
    "        frames_list.append(np.zeros((IMAGE_HEIGHT, IMAGE_WIDTH, 3)))  # Add empty frames if needed\n",
    "\n",
    "    return frames_list\n"
   ]
  },
  {
   "cell_type": "code",
   "execution_count": 50,
   "metadata": {},
   "outputs": [],
   "source": [
    "import os\n",
    "import numpy as np\n",
    "\n",
    "def create_dataset(root_dir, classes_list):\n",
    "    features = []\n",
    "    labels = []\n",
    "    video_files_paths = []\n",
    "\n",
    "    for class_index, class_name in enumerate(classes_list):\n",
    "        class_dir = os.path.join(root_dir, class_name)\n",
    "        \n",
    "        files_list = os.listdir(class_dir)\n",
    "\n",
    "        for file_name in files_list:\n",
    "            video_file_path = os.path.join(class_dir, file_name)\n",
    "            \n",
    "            frames = frames_extractor(video_file_path)\n",
    "            \n",
    "            # Check if the extracted frames match the SEQUENCE_LENGTH\n",
    "            if len(frames) == SEQUENCE_LENGTH:\n",
    "                features.append(frames)\n",
    "                labels.append(class_index)\n",
    "                video_files_paths.append(video_file_path)\n",
    "    \n",
    "    # Convert lists to numpy arrays\n",
    "    features = np.asarray(features)\n",
    "    labels = np.array(labels)\n",
    "    \n",
    "    return features, labels, video_files_paths\n",
    "\n",
    "# Set your root directory and classes list\n",
    "DATASET_DIR = \"C:\\\\Users\\\\bhatt\\\\Machine Learning\\\\DeepTrace\\\\celebDataset\"\n",
    "CLASSES_LIST = [\"real\", \"synthetic\"]\n",
    "\n",
    "\n",
    "features, labels, video_files_paths = create_dataset(DATASET_DIR, CLASSES_LIST)\n"
   ]
  },
  {
   "cell_type": "code",
   "execution_count": 51,
   "metadata": {},
   "outputs": [],
   "source": [
    "features_train, features_test, labels_train, labels_test = train_test_split(features, labels, test_size=0.25, shuffle=True)\n",
    "\n",
    "features_train = torch.tensor(features_train).float().permute(0, 1, 4, 2, 3).to(device)  \n",
    "features_test = torch.tensor(features_test).float().permute(0, 1, 4, 2, 3).to(device)\n",
    "labels_train = torch.tensor(labels_train).long().to(device)\n",
    "labels_test = torch.tensor(labels_test).long().to(device)"
   ]
  },
  {
   "cell_type": "code",
   "execution_count": 52,
   "metadata": {},
   "outputs": [],
   "source": [
    "class VideoDataset(data.Dataset):\n",
    "    def __init__(self, features, labels):\n",
    "        self.features = features\n",
    "        self.labels = labels\n",
    "\n",
    "    def __len__(self):\n",
    "        return len(self.features)\n",
    "\n",
    "    def __getitem__(self, idx):\n",
    "        return self.features[idx], self.labels[idx]\n",
    "\n",
    "train_dataset = VideoDataset(features_train, labels_train)\n",
    "test_dataset = VideoDataset(features_test, labels_test)\n",
    "\n",
    "train_loader = data.DataLoader(train_dataset, batch_size=4, shuffle=True)\n",
    "test_loader = data.DataLoader(test_dataset, batch_size=4, shuffle=False)\n"
   ]
  },
  {
   "cell_type": "code",
   "execution_count": 53,
   "metadata": {},
   "outputs": [],
   "source": [
    "import torch\n",
    "import torch.nn as nn\n",
    "\n",
    "class ConvLSTMModel(nn.Module):\n",
    "    def __init__(self, num_classes):\n",
    "        super(ConvLSTMModel, self).__init__()\n",
    "\n",
    "        self.cnn = nn.Sequential(\n",
    "            nn.Conv2d(3, 16, kernel_size=3, stride=1, padding=1),  \n",
    "            nn.ReLU(),\n",
    "            nn.MaxPool2d(2, 2), \n",
    "            nn.Conv2d(16, 32, kernel_size=3, stride=1, padding=1),  \n",
    "            nn.ReLU(),\n",
    "            nn.MaxPool2d(2, 2) \n",
    "        )\n",
    "        \n",
    "        cnn_output_size = 32 * (IMAGE_HEIGHT // 4) * (IMAGE_WIDTH // 4)\n",
    "        self.lstm = nn.LSTM(input_size=cnn_output_size, hidden_size=64, batch_first=True)\n",
    "\n",
    "        self.fc = nn.Linear(64 * SEQUENCE_LENGTH, num_classes)  # Update this based on LSTM hidden size\n",
    "\n",
    "        self.dropout = nn.Dropout(0.25)\n",
    "\n",
    "    def forward(self, x):\n",
    "        batch_size, seq_len, channels, height, width = x.size()\n",
    "        x = x.reshape(batch_size * seq_len, channels, height, width)\n",
    "        cnn_features = self.cnn(x)\n",
    "        cnn_features = cnn_features.reshape(batch_size, seq_len, -1)\n",
    "        lstm_out, _ = self.lstm(cnn_features)\n",
    "        lstm_out = lstm_out.reshape(batch_size, -1)\n",
    "        output = self.fc(lstm_out)\n",
    "        return output\n",
    "\n",
    "\n",
    "# Instantiate the model\n",
    "num_classes = len(CLASSES_LIST)\n",
    "convlstm_model = ConvLSTMModel(num_classes).to(device)\n"
   ]
  },
  {
   "cell_type": "code",
   "execution_count": 54,
   "metadata": {},
   "outputs": [
    {
     "name": "stdout",
     "output_type": "stream",
     "text": [
      "Output shape: torch.Size([4, 2])\n"
     ]
    }
   ],
   "source": [
    "#MODEL TESTING\n",
    "import torch\n",
    "\n",
    "batch_size = 4  \n",
    "sequence_length = 80  \n",
    "channels = 3  \n",
    "height = 64  \n",
    "width = 64  \n",
    "\n",
    "random_input = torch.rand(batch_size, sequence_length, channels, height, width)\n",
    "\n",
    "device = torch.device(\"cuda\" if torch.cuda.is_available() else \"cpu\")\n",
    "convlstm_model.to(device)\n",
    "\n",
    "with torch.no_grad(): \n",
    "    convlstm_model.eval()  \n",
    "    output = convlstm_model(random_input.to(device))\n",
    "\n",
    "print(\"Output shape:\", output.shape)  #Outpur should be BatchSize and Number of Classes\n"
   ]
  },
  {
   "cell_type": "code",
   "execution_count": 55,
   "metadata": {},
   "outputs": [
    {
     "data": {
      "image/png": "[encoded data removed]",
      "text/plain": [
       "<Figure size 640x480 with 1 Axes>"
      ]
     },
     "metadata": {},
     "output_type": "display_data"
    }
   ],
   "source": [
    "import matplotlib.pyplot as plt\n",
    "import numpy as np\n",
    "\n",
    "unique, counts = np.unique(labels, return_counts=True)\n",
    "plt.bar(unique, counts)\n",
    "plt.xlabel('Class')\n",
    "plt.ylabel('Frequency')\n",
    "plt.title('Class Distribution')\n",
    "plt.show()\n"
   ]
  },
  {
   "cell_type": "code",
   "execution_count": 64,
   "metadata": {},
   "outputs": [
    {
     "name": "stderr",
     "output_type": "stream",
     "text": [
      "Epoch 1/50:   0%|          | 0/53 [00:00<?, ?batch/s]"
     ]
    },
    {
     "name": "stderr",
     "output_type": "stream",
     "text": [
      "Epoch 1/50: 100%|██████████| 53/53 [00:02<00:00, 19.81batch/s, accuracy=55.7, loss=0.174]\n"
     ]
    },
    {
     "name": "stdout",
     "output_type": "stream",
     "text": [
      "Epoch [1/50], Loss: 0.6882, Accuracy: 55.71%\n"
     ]
    },
    {
     "name": "stderr",
     "output_type": "stream",
     "text": [
      "Epoch 2/50: 100%|██████████| 53/53 [00:03<00:00, 17.29batch/s, accuracy=58.6, loss=0.169]\n"
     ]
    },
    {
     "name": "stdout",
     "output_type": "stream",
     "text": [
      "Epoch [2/50], Loss: 0.6712, Accuracy: 58.57%\n"
     ]
    },
    {
     "name": "stderr",
     "output_type": "stream",
     "text": [
      "Epoch 3/50: 100%|██████████| 53/53 [00:03<00:00, 13.77batch/s, accuracy=65.2, loss=0.165]\n"
     ]
    },
    {
     "name": "stdout",
     "output_type": "stream",
     "text": [
      "Epoch [3/50], Loss: 0.6547, Accuracy: 65.24%\n"
     ]
    },
    {
     "name": "stderr",
     "output_type": "stream",
     "text": [
      "Epoch 4/50: 100%|██████████| 53/53 [00:04<00:00, 12.79batch/s, accuracy=64.8, loss=0.157]\n"
     ]
    },
    {
     "name": "stdout",
     "output_type": "stream",
     "text": [
      "Epoch [4/50], Loss: 0.6221, Accuracy: 64.76%\n"
     ]
    },
    {
     "name": "stderr",
     "output_type": "stream",
     "text": [
      "Epoch 5/50: 100%|██████████| 53/53 [00:03<00:00, 14.87batch/s, accuracy=75.2, loss=0.149]\n"
     ]
    },
    {
     "name": "stdout",
     "output_type": "stream",
     "text": [
      "Epoch [5/50], Loss: 0.5888, Accuracy: 75.24%\n"
     ]
    },
    {
     "name": "stderr",
     "output_type": "stream",
     "text": [
      "Epoch 6/50: 100%|██████████| 53/53 [00:04<00:00, 12.61batch/s, accuracy=77.6, loss=0.14] \n"
     ]
    },
    {
     "name": "stdout",
     "output_type": "stream",
     "text": [
      "Epoch [6/50], Loss: 0.5545, Accuracy: 77.62%\n"
     ]
    },
    {
     "name": "stderr",
     "output_type": "stream",
     "text": [
      "Epoch 7/50: 100%|██████████| 53/53 [00:04<00:00, 12.05batch/s, accuracy=75.7, loss=0.133]\n"
     ]
    },
    {
     "name": "stdout",
     "output_type": "stream",
     "text": [
      "Epoch [7/50], Loss: 0.5278, Accuracy: 75.71%\n"
     ]
    },
    {
     "name": "stderr",
     "output_type": "stream",
     "text": [
      "Epoch 8/50: 100%|██████████| 53/53 [00:04<00:00, 12.85batch/s, accuracy=74.3, loss=0.135]\n"
     ]
    },
    {
     "name": "stdout",
     "output_type": "stream",
     "text": [
      "Epoch [8/50], Loss: 0.5348, Accuracy: 74.29%\n"
     ]
    },
    {
     "name": "stderr",
     "output_type": "stream",
     "text": [
      "Epoch 9/50: 100%|██████████| 53/53 [00:04<00:00, 12.77batch/s, accuracy=79.5, loss=0.123]\n"
     ]
    },
    {
     "name": "stdout",
     "output_type": "stream",
     "text": [
      "Epoch [9/50], Loss: 0.4879, Accuracy: 79.52%\n"
     ]
    },
    {
     "name": "stderr",
     "output_type": "stream",
     "text": [
      "Epoch 10/50: 100%|██████████| 53/53 [00:04<00:00, 13.02batch/s, accuracy=81, loss=0.116]  \n"
     ]
    },
    {
     "name": "stdout",
     "output_type": "stream",
     "text": [
      "Epoch [10/50], Loss: 0.4594, Accuracy: 80.95%\n"
     ]
    },
    {
     "name": "stderr",
     "output_type": "stream",
     "text": [
      "Epoch 11/50: 100%|██████████| 53/53 [00:03<00:00, 15.27batch/s, accuracy=83.8, loss=0.111]\n"
     ]
    },
    {
     "name": "stdout",
     "output_type": "stream",
     "text": [
      "Epoch [11/50], Loss: 0.4387, Accuracy: 83.81%\n"
     ]
    },
    {
     "name": "stderr",
     "output_type": "stream",
     "text": [
      "Epoch 12/50: 100%|██████████| 53/53 [00:03<00:00, 17.41batch/s, accuracy=81.9, loss=0.111]\n"
     ]
    },
    {
     "name": "stdout",
     "output_type": "stream",
     "text": [
      "Epoch [12/50], Loss: 0.4382, Accuracy: 81.90%\n"
     ]
    },
    {
     "name": "stderr",
     "output_type": "stream",
     "text": [
      "Epoch 13/50: 100%|██████████| 53/53 [00:02<00:00, 18.52batch/s, accuracy=84.3, loss=0.111] \n"
     ]
    },
    {
     "name": "stdout",
     "output_type": "stream",
     "text": [
      "Epoch [13/50], Loss: 0.4394, Accuracy: 84.29%\n"
     ]
    },
    {
     "name": "stderr",
     "output_type": "stream",
     "text": [
      "Epoch 14/50: 100%|██████████| 53/53 [00:02<00:00, 17.75batch/s, accuracy=84.8, loss=0.103] \n"
     ]
    },
    {
     "name": "stdout",
     "output_type": "stream",
     "text": [
      "Epoch [14/50], Loss: 0.4097, Accuracy: 84.76%\n"
     ]
    },
    {
     "name": "stderr",
     "output_type": "stream",
     "text": [
      "Epoch 15/50: 100%|██████████| 53/53 [00:02<00:00, 17.70batch/s, accuracy=85.7, loss=0.101] \n"
     ]
    },
    {
     "name": "stdout",
     "output_type": "stream",
     "text": [
      "Epoch [15/50], Loss: 0.4012, Accuracy: 85.71%\n"
     ]
    },
    {
     "name": "stderr",
     "output_type": "stream",
     "text": [
      "Epoch 16/50: 100%|██████████| 53/53 [00:03<00:00, 15.83batch/s, accuracy=85.7, loss=0.0979]\n"
     ]
    },
    {
     "name": "stdout",
     "output_type": "stream",
     "text": [
      "Epoch [16/50], Loss: 0.3878, Accuracy: 85.71%\n"
     ]
    },
    {
     "name": "stderr",
     "output_type": "stream",
     "text": [
      "Epoch 17/50: 100%|██████████| 53/53 [00:03<00:00, 16.74batch/s, accuracy=86.7, loss=0.0943]\n"
     ]
    },
    {
     "name": "stdout",
     "output_type": "stream",
     "text": [
      "Epoch [17/50], Loss: 0.3735, Accuracy: 86.67%\n"
     ]
    },
    {
     "name": "stderr",
     "output_type": "stream",
     "text": [
      "Epoch 18/50: 100%|██████████| 53/53 [00:03<00:00, 17.51batch/s, accuracy=86.2, loss=0.0913]\n"
     ]
    },
    {
     "name": "stdout",
     "output_type": "stream",
     "text": [
      "Epoch [18/50], Loss: 0.3616, Accuracy: 86.19%\n"
     ]
    },
    {
     "name": "stderr",
     "output_type": "stream",
     "text": [
      "Epoch 19/50: 100%|██████████| 53/53 [00:03<00:00, 17.37batch/s, accuracy=86.2, loss=0.0949]\n"
     ]
    },
    {
     "name": "stdout",
     "output_type": "stream",
     "text": [
      "Epoch [19/50], Loss: 0.3760, Accuracy: 86.19%\n"
     ]
    },
    {
     "name": "stderr",
     "output_type": "stream",
     "text": [
      "Epoch 20/50: 100%|██████████| 53/53 [00:03<00:00, 16.52batch/s, accuracy=87.1, loss=0.0893]\n"
     ]
    },
    {
     "name": "stdout",
     "output_type": "stream",
     "text": [
      "Epoch [20/50], Loss: 0.3537, Accuracy: 87.14%\n"
     ]
    },
    {
     "name": "stderr",
     "output_type": "stream",
     "text": [
      "Epoch 21/50: 100%|██████████| 53/53 [00:03<00:00, 15.08batch/s, accuracy=87.1, loss=0.09]  \n"
     ]
    },
    {
     "name": "stdout",
     "output_type": "stream",
     "text": [
      "Epoch [21/50], Loss: 0.3568, Accuracy: 87.14%\n"
     ]
    },
    {
     "name": "stderr",
     "output_type": "stream",
     "text": [
      "Epoch 22/50: 100%|██████████| 53/53 [00:03<00:00, 13.66batch/s, accuracy=90, loss=0.0931]  \n"
     ]
    },
    {
     "name": "stdout",
     "output_type": "stream",
     "text": [
      "Epoch [22/50], Loss: 0.3690, Accuracy: 90.00%\n"
     ]
    },
    {
     "name": "stderr",
     "output_type": "stream",
     "text": [
      "Epoch 23/50: 100%|██████████| 53/53 [00:03<00:00, 14.57batch/s, accuracy=86.7, loss=0.0835]\n"
     ]
    },
    {
     "name": "stdout",
     "output_type": "stream",
     "text": [
      "Epoch [23/50], Loss: 0.3310, Accuracy: 86.67%\n"
     ]
    },
    {
     "name": "stderr",
     "output_type": "stream",
     "text": [
      "Epoch 24/50: 100%|██████████| 53/53 [00:04<00:00, 12.63batch/s, accuracy=89, loss=0.0866]  \n"
     ]
    },
    {
     "name": "stdout",
     "output_type": "stream",
     "text": [
      "Epoch [24/50], Loss: 0.3430, Accuracy: 89.05%\n"
     ]
    },
    {
     "name": "stderr",
     "output_type": "stream",
     "text": [
      "Epoch 25/50: 100%|██████████| 53/53 [00:04<00:00, 12.89batch/s, accuracy=87.6, loss=0.0866]\n"
     ]
    },
    {
     "name": "stdout",
     "output_type": "stream",
     "text": [
      "Epoch [25/50], Loss: 0.3432, Accuracy: 87.62%\n"
     ]
    },
    {
     "name": "stderr",
     "output_type": "stream",
     "text": [
      "Epoch 26/50: 100%|██████████| 53/53 [00:03<00:00, 14.48batch/s, accuracy=91.4, loss=0.0856]\n"
     ]
    },
    {
     "name": "stdout",
     "output_type": "stream",
     "text": [
      "Epoch [26/50], Loss: 0.3393, Accuracy: 91.43%\n"
     ]
    },
    {
     "name": "stderr",
     "output_type": "stream",
     "text": [
      "Epoch 27/50: 100%|██████████| 53/53 [00:03<00:00, 13.83batch/s, accuracy=90, loss=0.082]   \n"
     ]
    },
    {
     "name": "stdout",
     "output_type": "stream",
     "text": [
      "Epoch [27/50], Loss: 0.3248, Accuracy: 90.00%\n"
     ]
    },
    {
     "name": "stderr",
     "output_type": "stream",
     "text": [
      "Epoch 28/50: 100%|██████████| 53/53 [00:03<00:00, 15.70batch/s, accuracy=91, loss=0.0795]  \n"
     ]
    },
    {
     "name": "stdout",
     "output_type": "stream",
     "text": [
      "Epoch [28/50], Loss: 0.3152, Accuracy: 90.95%\n"
     ]
    },
    {
     "name": "stderr",
     "output_type": "stream",
     "text": [
      "Epoch 29/50: 100%|██████████| 53/53 [00:02<00:00, 17.70batch/s, accuracy=89.5, loss=0.0837]\n"
     ]
    },
    {
     "name": "stdout",
     "output_type": "stream",
     "text": [
      "Epoch [29/50], Loss: 0.3315, Accuracy: 89.52%\n"
     ]
    },
    {
     "name": "stderr",
     "output_type": "stream",
     "text": [
      "Epoch 30/50: 100%|██████████| 53/53 [00:03<00:00, 13.79batch/s, accuracy=90.5, loss=0.0775]\n"
     ]
    },
    {
     "name": "stdout",
     "output_type": "stream",
     "text": [
      "Epoch [30/50], Loss: 0.3070, Accuracy: 90.48%\n"
     ]
    },
    {
     "name": "stderr",
     "output_type": "stream",
     "text": [
      "Epoch 31/50: 100%|██████████| 53/53 [00:04<00:00, 13.06batch/s, accuracy=89, loss=0.0768]  \n"
     ]
    },
    {
     "name": "stdout",
     "output_type": "stream",
     "text": [
      "Epoch [31/50], Loss: 0.3045, Accuracy: 89.05%\n"
     ]
    },
    {
     "name": "stderr",
     "output_type": "stream",
     "text": [
      "Epoch 32/50: 100%|██████████| 53/53 [00:04<00:00, 13.14batch/s, accuracy=87.6, loss=0.0819]\n"
     ]
    },
    {
     "name": "stdout",
     "output_type": "stream",
     "text": [
      "Epoch [32/50], Loss: 0.3244, Accuracy: 87.62%\n"
     ]
    },
    {
     "name": "stderr",
     "output_type": "stream",
     "text": [
      "Epoch 33/50: 100%|██████████| 53/53 [00:03<00:00, 13.60batch/s, accuracy=91.4, loss=0.0764]\n"
     ]
    },
    {
     "name": "stdout",
     "output_type": "stream",
     "text": [
      "Epoch [33/50], Loss: 0.3027, Accuracy: 91.43%\n"
     ]
    },
    {
     "name": "stderr",
     "output_type": "stream",
     "text": [
      "Epoch 34/50: 100%|██████████| 53/53 [00:04<00:00, 13.14batch/s, accuracy=89, loss=0.077]   \n"
     ]
    },
    {
     "name": "stdout",
     "output_type": "stream",
     "text": [
      "Epoch [34/50], Loss: 0.3051, Accuracy: 89.05%\n"
     ]
    },
    {
     "name": "stderr",
     "output_type": "stream",
     "text": [
      "Epoch 35/50: 100%|██████████| 53/53 [00:04<00:00, 12.57batch/s, accuracy=93.8, loss=0.0738]\n"
     ]
    },
    {
     "name": "stdout",
     "output_type": "stream",
     "text": [
      "Epoch [35/50], Loss: 0.2926, Accuracy: 93.81%\n"
     ]
    },
    {
     "name": "stderr",
     "output_type": "stream",
     "text": [
      "Epoch 36/50: 100%|██████████| 53/53 [00:04<00:00, 10.90batch/s, accuracy=93.3, loss=0.0701]\n"
     ]
    },
    {
     "name": "stdout",
     "output_type": "stream",
     "text": [
      "Epoch [36/50], Loss: 0.2776, Accuracy: 93.33%\n"
     ]
    },
    {
     "name": "stderr",
     "output_type": "stream",
     "text": [
      "Epoch 37/50: 100%|██████████| 53/53 [00:04<00:00, 12.88batch/s, accuracy=93.8, loss=0.069] \n"
     ]
    },
    {
     "name": "stdout",
     "output_type": "stream",
     "text": [
      "Epoch [37/50], Loss: 0.2732, Accuracy: 93.81%\n"
     ]
    },
    {
     "name": "stderr",
     "output_type": "stream",
     "text": [
      "Epoch 38/50: 100%|██████████| 53/53 [00:04<00:00, 12.86batch/s, accuracy=91.4, loss=0.0796]\n"
     ]
    },
    {
     "name": "stdout",
     "output_type": "stream",
     "text": [
      "Epoch [38/50], Loss: 0.3154, Accuracy: 91.43%\n"
     ]
    },
    {
     "name": "stderr",
     "output_type": "stream",
     "text": [
      "Epoch 39/50: 100%|██████████| 53/53 [00:04<00:00, 13.08batch/s, accuracy=92.4, loss=0.0718]\n"
     ]
    },
    {
     "name": "stdout",
     "output_type": "stream",
     "text": [
      "Epoch [39/50], Loss: 0.2843, Accuracy: 92.38%\n"
     ]
    },
    {
     "name": "stderr",
     "output_type": "stream",
     "text": [
      "Epoch 40/50: 100%|██████████| 53/53 [00:04<00:00, 12.07batch/s, accuracy=92.9, loss=0.0689]\n"
     ]
    },
    {
     "name": "stdout",
     "output_type": "stream",
     "text": [
      "Epoch [40/50], Loss: 0.2729, Accuracy: 92.86%\n"
     ]
    },
    {
     "name": "stderr",
     "output_type": "stream",
     "text": [
      "Epoch 41/50: 100%|██████████| 53/53 [00:04<00:00, 12.58batch/s, accuracy=93.3, loss=0.0689]\n"
     ]
    },
    {
     "name": "stdout",
     "output_type": "stream",
     "text": [
      "Epoch [41/50], Loss: 0.2730, Accuracy: 93.33%\n"
     ]
    },
    {
     "name": "stderr",
     "output_type": "stream",
     "text": [
      "Epoch 42/50: 100%|██████████| 53/53 [00:04<00:00, 12.50batch/s, accuracy=92.4, loss=0.0733]\n"
     ]
    },
    {
     "name": "stdout",
     "output_type": "stream",
     "text": [
      "Epoch [42/50], Loss: 0.2905, Accuracy: 92.38%\n"
     ]
    },
    {
     "name": "stderr",
     "output_type": "stream",
     "text": [
      "Epoch 43/50: 100%|██████████| 53/53 [00:04<00:00, 12.07batch/s, accuracy=92.4, loss=0.0715]\n"
     ]
    },
    {
     "name": "stdout",
     "output_type": "stream",
     "text": [
      "Epoch [43/50], Loss: 0.2833, Accuracy: 92.38%\n"
     ]
    },
    {
     "name": "stderr",
     "output_type": "stream",
     "text": [
      "Epoch 44/50: 100%|██████████| 53/53 [00:04<00:00, 13.16batch/s, accuracy=92.4, loss=0.0685]\n"
     ]
    },
    {
     "name": "stdout",
     "output_type": "stream",
     "text": [
      "Epoch [44/50], Loss: 0.2713, Accuracy: 92.38%\n"
     ]
    },
    {
     "name": "stderr",
     "output_type": "stream",
     "text": [
      "Epoch 45/50: 100%|██████████| 53/53 [00:04<00:00, 11.57batch/s, accuracy=91.9, loss=0.0688]\n"
     ]
    },
    {
     "name": "stdout",
     "output_type": "stream",
     "text": [
      "Epoch [45/50], Loss: 0.2724, Accuracy: 91.90%\n"
     ]
    },
    {
     "name": "stderr",
     "output_type": "stream",
     "text": [
      "Epoch 46/50: 100%|██████████| 53/53 [00:04<00:00, 11.91batch/s, accuracy=93.3, loss=0.0659]\n"
     ]
    },
    {
     "name": "stdout",
     "output_type": "stream",
     "text": [
      "Epoch [46/50], Loss: 0.2613, Accuracy: 93.33%\n"
     ]
    },
    {
     "name": "stderr",
     "output_type": "stream",
     "text": [
      "Epoch 47/50: 100%|██████████| 53/53 [00:04<00:00, 12.80batch/s, accuracy=93.3, loss=0.069] \n"
     ]
    },
    {
     "name": "stdout",
     "output_type": "stream",
     "text": [
      "Epoch [47/50], Loss: 0.2733, Accuracy: 93.33%\n"
     ]
    },
    {
     "name": "stderr",
     "output_type": "stream",
     "text": [
      "Epoch 48/50: 100%|██████████| 53/53 [00:04<00:00, 13.21batch/s, accuracy=93.3, loss=0.0635]\n"
     ]
    },
    {
     "name": "stdout",
     "output_type": "stream",
     "text": [
      "Epoch [48/50], Loss: 0.2515, Accuracy: 93.33%\n"
     ]
    },
    {
     "name": "stderr",
     "output_type": "stream",
     "text": [
      "Epoch 49/50: 100%|██████████| 53/53 [00:04<00:00, 12.30batch/s, accuracy=92.9, loss=0.0655]\n"
     ]
    },
    {
     "name": "stdout",
     "output_type": "stream",
     "text": [
      "Epoch [49/50], Loss: 0.2595, Accuracy: 92.86%\n"
     ]
    },
    {
     "name": "stderr",
     "output_type": "stream",
     "text": [
      "Epoch 50/50: 100%|██████████| 53/53 [00:04<00:00, 13.04batch/s, accuracy=92.9, loss=0.0712]"
     ]
    },
    {
     "name": "stdout",
     "output_type": "stream",
     "text": [
      "Epoch [50/50], Loss: 0.2823, Accuracy: 92.86%\n"
     ]
    },
    {
     "name": "stderr",
     "output_type": "stream",
     "text": [
      "\n"
     ]
    }
   ],
   "source": [
    "# TRAINING\n",
    "\n",
    "import torch\n",
    "import torch.nn as nn\n",
    "import torch.optim as optim\n",
    "from tqdm import tqdm\n",
    "\n",
    "model = ConvModel(num_classes=len(CLASSES_LIST)).to(device)  # Ensure you're using the correct model\n",
    "criterion = nn.CrossEntropyLoss()\n",
    "optimizer = optim.Adam(model.parameters(), lr=0.0001)\n",
    "\n",
    "# Training Loop\n",
    "num_epochs = 1\n",
    "for epoch in range(num_epochs):\n",
    "    model.train()\n",
    "    running_loss = 0.0\n",
    "    correct = 0\n",
    "    total = 0\n",
    "\n",
    "    # Create a progress bar with tqdm\n",
    "    with tqdm(total=len(train_loader), desc=f'Epoch {epoch+1}/{num_epochs}', unit='batch') as pbar:\n",
    "        for inputs, labels in train_loader:\n",
    "            inputs, labels = inputs.to(device), labels.to(device)  \n",
    "\n",
    "            optimizer.zero_grad()\n",
    "            outputs = model(inputs)\n",
    "\n",
    "            loss = criterion(outputs, labels)\n",
    "            loss.backward()\n",
    "            optimizer.step()\n",
    "\n",
    "            running_loss += loss.item()\n",
    "\n",
    "            # Get predictions\n",
    "            _, predicted = outputs.max(1)\n",
    "            total += labels.size(0)  # Update total here\n",
    "            correct += (predicted == labels).sum().item()  # Count correct predictions\n",
    "\n",
    "            # Update progress bar\n",
    "            pbar.set_postfix(loss=running_loss/total, accuracy=100.*correct/total if total > 0 else 0)\n",
    "            pbar.update(1)\n",
    "\n",
    "    # Print loss and accuracy at the end of the epoch\n",
    "    avg_loss = running_loss / len(train_loader)\n",
    "    avg_accuracy = 100. * correct / total if total > 0 else 0  # Avoid division by zero\n",
    "    print(f\"Epoch [{epoch+1}/{num_epochs}], Loss: {avg_loss:.4f}, Accuracy: {avg_accuracy:.2f}%\")\n"
   ]
  },
  {
   "cell_type": "code",
   "execution_count": 65,
   "metadata": {},
   "outputs": [
    {
     "name": "stdout",
     "output_type": "stream",
     "text": [
      "Test Accuracy: 91.42857142857143%\n"
     ]
    }
   ],
   "source": [
    "model.eval()\n",
    "correct = 0\n",
    "total = 0\n",
    "with torch.no_grad():\n",
    "    for inputs, labels in test_loader:\n",
    "        outputs = model(inputs)\n",
    "        _, predicted = outputs.max(1)\n",
    "        total += labels.size(0)\n",
    "        correct += predicted.eq(labels).sum().item()\n",
    "\n",
    "print(f\"Test Accuracy: {100.*correct/total}%\")\n",
    "\n",
    "# Save the Model\n",
    "torch.save(model.state_dict(), \"ConvLSTM_Test3.h5\")"
   ]
  },
  {
   "cell_type": "code",
   "execution_count": 67,
   "metadata": {},
   "outputs": [
    {
     "name": "stdout",
     "output_type": "stream",
     "text": [
      "Test Accuracy: 91.42857142857143%\n",
      "Visualizing some predictions:\n"
     ]
    },
    {
     "data": {
      "image/png": "[encoded data removed]",
      "text/plain": [
       "<Figure size 1200x600 with 4 Axes>"
      ]
     },
     "metadata": {},
     "output_type": "display_data"
    }
   ],
   "source": [
    "#VISUALISE\n",
    "import matplotlib.pyplot as plt\n",
    "\n",
    "# Function to test and visualize predictions\n",
    "def test_and_visualize(model, test_loader, num_samples=4):\n",
    "    model.eval()  # Set the model to evaluation mode\n",
    "    correct = 0\n",
    "    total = 0\n",
    "\n",
    "    # Randomly select some samples from the test set for visualization\n",
    "    sample_inputs, sample_labels = next(iter(test_loader))\n",
    "\n",
    "    with torch.no_grad():\n",
    "        # Get predictions for the test set\n",
    "        for inputs, labels in test_loader:\n",
    "            inputs, labels = inputs.to(device), labels.to(device)\n",
    "            outputs = model(inputs)\n",
    "            _, predicted = outputs.max(1)\n",
    "            total += labels.size(0)\n",
    "            correct += predicted.eq(labels).sum().item()\n",
    "\n",
    "        print(f\"Test Accuracy: {100.*correct/total}%\")\n",
    "\n",
    "    # Visualize the predictions\n",
    "    print(\"Visualizing some predictions:\")\n",
    "\n",
    "    # Use sample_inputs for visualization\n",
    "    model.eval()\n",
    "    with torch.no_grad():\n",
    "        sample_inputs = sample_inputs.to(device)\n",
    "        sample_outputs = model(sample_inputs)\n",
    "        _, predicted_labels = torch.max(sample_outputs, 1)\n",
    "\n",
    "    # Converting back to CPU for visualization\n",
    "    sample_inputs = sample_inputs.cpu().numpy()\n",
    "    predicted_labels = predicted_labels.cpu().numpy()\n",
    "    sample_labels = sample_labels.cpu().numpy()\n",
    "\n",
    "    fig, axes = plt.subplots(1, num_samples, figsize=(12, 6))\n",
    "\n",
    "    for i in range(num_samples):\n",
    "        # Get the ith sequence of frames\n",
    "        input_sequence = sample_inputs[i]\n",
    "        true_label = sample_labels[i]\n",
    "        pred_label = predicted_labels[i]\n",
    "\n",
    "        # Take one frame from the sequence to visualize\n",
    "        frame_to_display = input_sequence[0].transpose(1, 2, 0)  # Convert to HxWxC format\n",
    "\n",
    "        axes[i].imshow(frame_to_display)\n",
    "        axes[i].set_title(f\"True: {CLASSES_LIST[true_label]}\\nPred: {CLASSES_LIST[pred_label]}\")\n",
    "        axes[i].axis('off')\n",
    "\n",
    "    plt.show()\n",
    "\n",
    "# Call the function to test and visualize\n",
    "test_and_visualize(model, test_loader, num_samples=4)\n"
   ]
  },
  {
   "cell_type": "code",
   "execution_count": 68,
   "metadata": {},
   "outputs": [
    {
     "name": "stdout",
     "output_type": "stream",
     "text": [
      "Confusion Matrix:\n",
      " [[35  6]\n",
      " [ 0 29]]\n",
      "Classification Report:\n",
      "               precision    recall  f1-score   support\n",
      "\n",
      "        real       1.00      0.85      0.92        41\n",
      "   synthetic       0.83      1.00      0.91        29\n",
      "\n",
      "    accuracy                           0.91        70\n",
      "   macro avg       0.91      0.93      0.91        70\n",
      "weighted avg       0.93      0.91      0.91        70\n",
      "\n"
     ]
    },
    {
     "data": {
      "image/png": "[encoded data removed]",
      "text/plain": [
       "<Figure size 640x480 with 2 Axes>"
      ]
     },
     "metadata": {},
     "output_type": "display_data"
    }
   ],
   "source": [
    "import numpy as np\n",
    "import torch\n",
    "from sklearn.metrics import confusion_matrix, classification_report, ConfusionMatrixDisplay\n",
    "\n",
    "# Assuming you have the following:\n",
    "# true_labels: actual labels from your dataset\n",
    "# predictions: model predictions\n",
    "\n",
    "def evaluate_model(model, dataloader, device):\n",
    "    model.eval()\n",
    "    all_predictions = []\n",
    "    all_true_labels = []\n",
    "\n",
    "    with torch.no_grad():\n",
    "        for inputs, labels in dataloader:\n",
    "            inputs, labels = inputs.to(device), labels.to(device)\n",
    "            outputs = model(inputs)\n",
    "            _, predicted = outputs.max(1)\n",
    "\n",
    "            all_predictions.extend(predicted.cpu().numpy())\n",
    "            all_true_labels.extend(labels.cpu().numpy())\n",
    "\n",
    "    return np.array(all_true_labels), np.array(all_predictions)\n",
    "\n",
    "# Evaluate the model using your dataloader (e.g., validation or test set)\n",
    "true_labels, predictions = evaluate_model(model, test_loader, device)\n",
    "\n",
    "# Compute confusion matrix\n",
    "cm = confusion_matrix(true_labels, predictions)\n",
    "print(\"Confusion Matrix:\\n\", cm)\n",
    "\n",
    "# Display confusion matrix\n",
    "ConfusionMatrixDisplay(confusion_matrix=cm).plot(cmap='Blues')\n",
    "\n",
    "# Classification report (includes precision, recall, F1-score)\n",
    "report = classification_report(true_labels, predictions, target_names=CLASSES_LIST)\n",
    "print(\"Classification Report:\\n\", report)\n",
    "\n"
   ]
  },
  {
   "cell_type": "code",
   "execution_count": null,
   "metadata": {},
   "outputs": [],
   "source": [
    "import torch\n",
    "import torchvision.transforms as transforms\n",
    "import cv2\n",
    "from PIL import Image\n",
    "\n",
    "def load_model(model_path):\n",
    "    model = ConvLSTMModel(num_classes=len(CLASSES_LIST))\n",
    "    model.load_state_dict(torch.load(model_path))\n",
    "    model.eval()\n",
    "    return model\n",
    "\n",
    "def frames_extractor(video_path, sequence_length):\n",
    "    frames_list = []\n",
    "    video_reader = cv2.VideoCapture(video_path)\n",
    "    video_frames_count = int(video_reader.get(cv2.CAP_PROP_FRAME_COUNT))\n",
    "    skip_frames_window = max(int(video_frames_count / sequence_length), 1)\n",
    "\n",
    "    for frame_counter in range(sequence_length):\n",
    "        video_reader.set(cv2.CAP_PROP_POS_FRAMES, frame_counter * skip_frames_window)\n",
    "        success, frame = video_reader.read()\n",
    "        if not success:\n",
    "            break\n",
    "        resized_frame = cv2.resize(frame, (IMAGE_HEIGHT, IMAGE_WIDTH))\n",
    "        normalized_frame = resized_frame / 255\n",
    "        frames_list.append(normalized_frame)\n",
    "\n",
    "    video_reader.release()\n",
    "    return frames_list\n",
    "\n",
    "def preprocess_frames(frames):\n",
    "    transform = transforms.Compose([\n",
    "        transforms.ToTensor(),\n",
    "        transforms.Normalize(mean=[0.5, 0.5, 0.5], std=[0.5, 0.5, 0.5]),\n",
    "    ])\n",
    "    tensor_frames = [transform(Image.fromarray((frame * 255).astype('uint8'))) for frame in frames]\n",
    "    return torch.stack(tensor_frames)\n",
    "\n",
    "def test_model(model, video_tensor):\n",
    "    with torch.no_grad():\n",
    "        output = model(video_tensor)\n",
    "        _, predicted = output.max(1)\n",
    "    return predicted.item()\n",
    "\n",
    "model_path = 'C:\\\\Users\\\\bhatt\\\\Machine Learning\\\\DeepTrace\\\\models\\\\ConvLSTM\\\\ConvLSTM_Test3.h5'\n",
    "video_path = 'C:\\\\Users\\\\bhatt\\\\Machine Learning\\\\DeepTrace\\\\celebDataset\\\\synthetic\\\\id0_id1_0006.mp4'  # Replace with the path to your video\n",
    "\n",
    "model = load_model(model_path)\n",
    "frames = frames_extractor(video_path, SEQUENCE_LENGTH)\n",
    "\n",
    "if len(frames) == SEQUENCE_LENGTH:\n",
    "    video_tensor = preprocess_frames(frames).unsqueeze(0)  # Add batch dimension\n",
    "    predicted_class = test_model(model, video_tensor)\n",
    "    print(f'Predicted class: {predicted_class}')\n",
    "else:\n",
    "    print(f'Insufficient frames extracted: {len(frames)} (required: {SEQUENCE_LENGTH})')\n"
   ]
  }
 ],
 "metadata": {
  "kernelspec": {
   "display_name": "Python 3",
   "language": "python",
   "name": "python3"
  },
  "language_info": {
   "codemirror_mode": {
    "name": "ipython",
    "version": 3
   },
   "file_extension": ".py",
   "mimetype": "text/x-python",
   "name": "python",
   "nbconvert_exporter": "python",
   "pygments_lexer": "ipython3",
   "version": "3.12.4"
  }
 },
 "nbformat": 4,
 "nbformat_minor": 2
}
